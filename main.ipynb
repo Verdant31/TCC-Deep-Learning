{
 "cells": [
  {
   "cell_type": "code",
   "execution_count": null,
   "metadata": {},
   "outputs": [],
   "source": [
    "from keras.datasets import mnist\n",
    "from tensorflow import keras\n",
    "import matplotlib.pyplot as plt\n",
    "from keras.models import Sequential, load_model\n",
    "from keras.layers import Dense\n",
    "from keras.layers import Dropout\n",
    "from keras.layers import Flatten\n",
    "from keras.layers import Conv2D\n",
    "from keras.layers import MaxPooling2D\n",
    "from keras.utils import to_categorical\n",
    "import numpy as np\n",
    "import cv2\n",
    "import os"
   ]
  },
  {
   "cell_type": "code",
   "execution_count": null,
   "metadata": {},
   "outputs": [],
   "source": [
    "actions = [\"BBAS3.SA\", \"CSNA3.SA\", \"PETR4.SA\", \"VALE3.SA\"]\n",
    "\n",
    "def loadFiles():\n",
    "  buy_action_images = []\n",
    "  sell_action_images = []\n",
    "\n",
    "  for action in actions:\n",
    "    buy_path = \"./\" + action + \"./imagens/treino/comprar\"\n",
    "    sell_path = \"./\" + action + \"./imagens/treino/vender\"\n",
    "\n",
    "    for r, _, f in os.walk(buy_path):\n",
    "      for file in f:\n",
    "        filepath = os.path.join(r, file)\n",
    "        img = cv2.imread(filepath, cv2.IMREAD_GRAYSCALE)\n",
    "\n",
    "        img = cv2.resize(img, (28, 28), interpolation=cv2.INTER_CUBIC)\n",
    "        buy_action_images.append(img)\n",
    "\n",
    "    for r, _, f in os.walk(sell_path):\n",
    "      for file in f:\n",
    "        filepath = os.path.join(r, file)\n",
    "        img = cv2.imread(filepath, cv2.IMREAD_GRAYSCALE)\n",
    "\n",
    "        img = cv2.resize(img, (28, 28), interpolation=cv2.INTER_CUBIC)\n",
    "        sell_action_images.append(img)\n",
    "\n",
    "  return np.array(buy_action_images), np.array(sell_action_images)\n",
    "  \n",
    "buy_action_images, sell_action_images = loadFiles()"
   ]
  },
  {
   "cell_type": "code",
   "execution_count": null,
   "metadata": {},
   "outputs": [],
   "source": [
    "plt.figure(0)\n",
    "plt.subplot(221)\n",
    "plt.imshow(buy_action_images[0], cmap=plt.get_cmap('gray'))\n",
    "plt.subplot(222)\n",
    "plt.imshow(buy_action_images[1], cmap=plt.get_cmap('gray'))\n",
    "plt.subplot(223)\n",
    "plt.imshow(buy_action_images[2], cmap=plt.get_cmap('gray'))\n",
    "plt.subplot(224)\n",
    "plt.imshow(buy_action_images[3], cmap=plt.get_cmap('gray'))\n",
    "plt.show()"
   ]
  },
  {
   "cell_type": "code",
   "execution_count": null,
   "metadata": {},
   "outputs": [],
   "source": [
    "import numpy as np\n",
    "print(buy_action_images.shape)\n",
    "print(sell_action_images.shape)\n",
    "x_train = np.concatenate((buy_action_images, sell_action_images), axis=0)\n",
    "y_train = np.concatenate((np.ones(len(buy_action_images)), np.zeros(len(sell_action_images))), axis=0)\n",
    "print(x_train.shape)\n",
    "print(y_train.shape)"
   ]
  },
  {
   "cell_type": "code",
   "execution_count": null,
   "metadata": {},
   "outputs": [],
   "source": [
    "img_rows, img_cols = 28, 28\n",
    "\n",
    "x_train = x_train.reshape(x_train.shape[0], img_rows, img_cols, 1)\n",
    "print(x_train.shape)\n",
    "input_shape = (img_rows, img_cols, 1)\n",
    "x_train = x_train / 255"
   ]
  },
  {
   "cell_type": "code",
   "execution_count": null,
   "metadata": {},
   "outputs": [],
   "source": [
    "from sklearn.preprocessing import LabelEncoder\n",
    "encoder = LabelEncoder()\n",
    "encoder.fit(y_train)\n",
    "encoded_Y = encoder.transform(y_train)\n",
    "print(encoded_Y)"
   ]
  },
  {
   "cell_type": "code",
   "execution_count": null,
   "metadata": {},
   "outputs": [],
   "source": []
  },
  {
   "cell_type": "code",
   "execution_count": null,
   "metadata": {},
   "outputs": [],
   "source": [
    "# Cria o modelo\n",
    "model = Sequential()\n",
    "#Convolução 2D com função de ativação Rectified Linear Units 32 kernels/Pesos (filtros)\n",
    "\n",
    "model.add(Conv2D(32, (5, 5), input_shape=(28, 28, 1), activation='relu'))#\n",
    "#model.add(Conv2D(10, (3, 3), input_shape=(64, 64, 3), activation='relu'))#\n",
    "#model.add(Conv2D(10, (3, 3), activation='relu'))#\n",
    "\n",
    "print( model.output_shape)\n",
    "#Camada de Pooling\n",
    "model.add(MaxPooling2D(pool_size=(2, 2)))\n",
    "print( model.output_shape)\n",
    "#Convolução 2D com função de ativação Rectified Linear Units 64 kernels/Pesos (filtros)\n",
    "model.add(Conv2D(64, (5, 5), activation='relu'))\n",
    "#model.add(Conv2D(10, (3, 3), activation='relu'))#\n",
    "#model.add(Conv2D(10, (3, 3), activation='relu'))#\n",
    "print( model.output_shape)\n",
    "#Camada de Pooling\n",
    "model.add(MaxPooling2D(pool_size=(2, 2)))\n",
    "print( model.output_shape)\n",
    "#Remove 20% das ativações de entrada aleatoriamente\n",
    "model.add(Dropout(0.2))\n",
    "#Converte o conjunto de imagens e um vetor unidimensional para a entrada da rede neural totalmente conectada\n",
    "model.add(Flatten())\n",
    "print( model.output_shape)\n",
    "\n",
    "model.add(Dense(32, activation='relu'))\n",
    "print( model.output_shape)\n",
    "model.add(Dense(16, activation='relu'))\n",
    "print( model.output_shape)\n",
    "#Função de Ativação Softmax\n",
    "model.add(Dense(1, activation='sigmoid'))\n",
    "print( model.output_shape)"
   ]
  },
  {
   "cell_type": "code",
   "execution_count": null,
   "metadata": {},
   "outputs": [],
   "source": [
    "model.compile(loss='binary_crossentropy', optimizer='adam', metrics=['accuracy'])"
   ]
  },
  {
   "cell_type": "code",
   "execution_count": null,
   "metadata": {},
   "outputs": [],
   "source": [
    "history = model.fit(x_train, y_train, validation_split = 0.2, epochs=20, batch_size=500)"
   ]
  },
  {
   "cell_type": "code",
   "execution_count": null,
   "metadata": {},
   "outputs": [],
   "source": [
    "plt.figure(1)\n",
    "plt.plot(history.history['accuracy'])\n",
    "plt.plot(history.history['val_accuracy'])\n",
    "plt.title('model accuracy')\n",
    "plt.ylabel('accuracy')\n",
    "plt.xlabel('epoch')\n",
    "plt.legend(['train', 'validation'], loc='upper left')\n",
    "plt.show()"
   ]
  }
 ],
 "metadata": {
  "kernelspec": {
   "display_name": "venv",
   "language": "python",
   "name": "python3"
  },
  "language_info": {
   "codemirror_mode": {
    "name": "ipython",
    "version": 3
   },
   "file_extension": ".py",
   "mimetype": "text/x-python",
   "name": "python",
   "nbconvert_exporter": "python",
   "pygments_lexer": "ipython3",
   "version": "3.10.0"
  }
 },
 "nbformat": 4,
 "nbformat_minor": 2
}
