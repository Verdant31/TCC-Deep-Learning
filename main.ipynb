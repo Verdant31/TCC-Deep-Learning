{
 "cells": [
  {
   "cell_type": "code",
   "execution_count": 54,
   "metadata": {},
   "outputs": [],
   "source": [
    "from keras.datasets import mnist\n",
    "from tensorflow import keras\n",
    "import matplotlib.pyplot as plt\n",
    "from keras.models import Sequential, load_model\n",
    "from keras.layers import Dense\n",
    "from keras.layers import Dropout\n",
    "from keras.layers import Flatten\n",
    "from keras.layers import Conv2D\n",
    "from keras.layers import MaxPooling2D\n",
    "from keras.utils import to_categorical\n",
    "import numpy as np\n",
    "import cv2\n",
    "import os"
   ]
  },
  {
   "cell_type": "code",
   "execution_count": 58,
   "metadata": {},
   "outputs": [],
   "source": [
    "actions = [\"BBAS3.SA\", \"CSNA3.SA\", \"PETR4.SA\", \"VALE3.SA\"]\n",
    "def loadFiles(path):\n",
    "  trainImages = []\n",
    "  for r, d, f in os.walk(path):\n",
    "    for file in f:\n",
    "      filepath = os.path.join(r, file)\n",
    "      img = cv2.imread(filepath, cv2.IMREAD_GRAYSCALE)\n",
    "\n",
    "       # Resizing image to size (28, 28)\n",
    "      img = cv2.resize(img, (28, 28), interpolation=cv2.INTER_CUBIC)\n",
    "      trainImages.append(img)\n",
    "  plt.imshow(trainImages[0], cmap=plt.get_cmap('gray'))\n",
    "\n",
    "  return trainImages\n",
    "\n",
    "buy_action_images = []\n",
    "sell_action_images = []\n",
    "for action in actions:\n",
    "  buy_action_images.append(loadFiles(\"./\" + action + \"./imagens/treino/comprar\"))\n",
    "  sell_action_images.append(loadFiles(\"./\" + action + \"./imagens/treino/vender\"))"
   ]
  },
  {
   "cell_type": "code",
   "execution_count": 57,
   "metadata": {},
   "outputs": [
    {
     "data": {
      "text/plain": [
       "4"
      ]
     },
     "execution_count": 57,
     "metadata": {},
     "output_type": "execute_result"
    }
   ],
   "source": [
    "buy_action_images = np.ndarray(shape=(4, len(buy_action_images[3])))\n",
    "sell_action_images = np.ndarray(shape=(4, len(sell_action_images[3])))"
   ]
  }
 ],
 "metadata": {
  "kernelspec": {
   "display_name": "venv",
   "language": "python",
   "name": "python3"
  },
  "language_info": {
   "codemirror_mode": {
    "name": "ipython",
    "version": 3
   },
   "file_extension": ".py",
   "mimetype": "text/x-python",
   "name": "python",
   "nbconvert_exporter": "python",
   "pygments_lexer": "ipython3",
   "version": "3.10.0"
  }
 },
 "nbformat": 4,
 "nbformat_minor": 2
}
