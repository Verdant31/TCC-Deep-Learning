{
 "cells": [
  {
   "cell_type": "code",
   "execution_count": null,
   "metadata": {},
   "outputs": [],
   "source": [
    "import matplotlib.pyplot as plt\n",
    "import numpy as np\n",
    "import warnings\n",
    "from sklearn.metrics import confusion_matrix\n",
    "import seaborn as sns\n",
    "import tensorflow as tf\n",
    "import pandas as pd\n",
    "from sklearn.preprocessing import MinMaxScaler\n",
    "from keras.models import Sequential\n",
    "from keras.layers import Dense\n",
    "from keras.layers import LSTM\n",
    "from sklearn.metrics import classification_report\n",
    "\n",
    "warnings.filterwarnings(\"ignore\", category=DeprecationWarning) \n",
    "tf.random.set_seed(221)\n",
    "np.random.seed(221)"
   ]
  },
  {
   "cell_type": "code",
   "execution_count": null,
   "metadata": {},
   "outputs": [],
   "source": [
    "def buildModel(neurons = 32, input_shape = (15,1)):\n",
    "  model = Sequential()\n",
    "  model.add(LSTM(neurons, input_shape=input_shape))\n",
    "  model.add(Dense(1, activation='sigmoid'))\n",
    "  model.compile(loss='binary_crossentropy', optimizer='adam', metrics=['accuracy'])\n",
    "  return model\n",
    "\n",
    "def printMetrics(model, x, y, stage):\n",
    "  scores = model.evaluate(x, y, verbose=0)\n",
    "  print(\"(\" + stage + \")\" + \"Erro da LSTM : %.2f%%\" % (100-scores[1]*100))\n",
    "  print(\"(\" + stage + \")\" + \"Acurária da LSTM  %.2f%%\" % (scores[1]*100))\n",
    "\n",
    "  print(\"Matriz de confusão (\" + stage + \")\")\n",
    "  y_pred = model.predict(x, verbose = 0)\n",
    "  y_pred = np.array(np.round(y_pred))\n",
    "  y = np.array(y)\n",
    "  cf_matrix = confusion_matrix(y, y_pred)\n",
    "\n",
    "  print(\"\\n\")\n",
    "  print(\"Precision, recall e f1-score\")\n",
    "  print(classification_report(y, y_pred)) \n",
    "\n",
    "  print(cf_matrix[0][0], \"Previu COMPRA e era COMPRA\")\n",
    "  print(cf_matrix[0][1], \"Previu COMPRA e era VENDA\")  \n",
    "  print(cf_matrix[1][0], \"Previu VENDA e era COMPRA\")\n",
    "  print(cf_matrix[1][1], \"Previu VENDA e era VENDA\")\n",
    "\n",
    "  sns.heatmap(cf_matrix/np.sum(cf_matrix), annot=True, fmt='.2%', cmap='Blues')\n",
    "  plt.show()\n",
    "\n",
    "def getData(action, training = False, dropDays=0):\n",
    "  step = \"treino\" if training else \"teste\"\n",
    "  df = pd.read_csv(\"./\" + action + \"./\" + step + \".csv\")\n",
    "  df.drop(columns=[\"Unnamed: 0\", \"Smoothed_Close\", \"Close\", \"Date\"], inplace=True)\n",
    "\n",
    "  if(dropDays > 0):\n",
    "    columns_to_drop = []\n",
    "    for day in reversed(range(dropDays)):\n",
    "      columns_to_drop.append(\"Past_\" + str(15-day)+ \"_Days_Close\")\n",
    "    df.drop(columns=columns_to_drop, inplace=True)\n",
    "\n",
    "  x = df.drop(columns=[\"Label\"])\n",
    "  y = df[\"Label\"]\n",
    "\n",
    "  scaler = MinMaxScaler(feature_range=(0, 1))\n",
    "  x = scaler.fit_transform(x)\n",
    "  y = y.replace(-1, 0)\n",
    "  \n",
    "  x = np.reshape(x, (x.shape[0], x.shape[1], 1))\n",
    "  return x, y"
   ]
  },
  {
   "cell_type": "code",
   "execution_count": null,
   "metadata": {},
   "outputs": [],
   "source": [
    "action = \"BBAS3.SA\"\n",
    "# actions = [\"BBAS3.SA\", \"CSNA3.SA\", \"PETR4.SA\", \"VALE3.SA\"]\n",
    "x_train, y_train = getData(action=action, training=True)\n",
    "x_test, y_test = getData(action=action, training=False)\n",
    "print(x_train.shape)\n",
    "print(y_train.shape)\n",
    "\n",
    "print(x_test.shape)\n",
    "print(y_test.shape)"
   ]
  },
  {
   "cell_type": "code",
   "execution_count": null,
   "metadata": {},
   "outputs": [],
   "source": [
    "model = buildModel()\n",
    "history = model.fit(x_train, y_train, validation_split = 0.2, epochs=100, batch_size=10, verbose=0)\n",
    "\n",
    "printMetrics(model, x_train, y_train, \"TREINO\")\n",
    "printMetrics(model, x_test, y_test, \"TESTE\")"
   ]
  },
  {
   "cell_type": "code",
   "execution_count": null,
   "metadata": {},
   "outputs": [],
   "source": [
    "plt.figure(1)\n",
    "plt.plot(history.history[\"accuracy\"])\n",
    "plt.plot(history.history[\"val_accuracy\"])\n",
    "plt.title(\"Training vs Validation Accuracy\")\n",
    "plt.xlabel(\"Epochs\")\n",
    "plt.ylabel(\"Accuracy\")\n",
    "plt.legend([\"train\", \"validation\"], loc='upper left')\n",
    "plt.show()"
   ]
  },
  {
   "cell_type": "code",
   "execution_count": null,
   "metadata": {},
   "outputs": [],
   "source": [
    "# Testando uma acuracia utilizando uma quantidade menor de t anteriores\n",
    "# Resultado: Os modelos apresentaram uma acuracia inferior ou igual a quando utilizado os 15 dias\n",
    "\n",
    "actions = [\"BBAS3.SA\", \"CSNA3.SA\", \"PETR4.SA\", \"VALE3.SA\"]\n",
    "for action in actions:\n",
    "  x_train, y_train = getData(action=action, training=True, dropDays=7)\n",
    "  x_test, y_test = getData(action=action, training=False, dropDays=7)\n",
    "\n",
    "  model = buildModel(input_shape=(8, 1))\n",
    "  history = model.fit(x_train, y_train, validation_split = 0.2, epochs=100, batch_size=10, verbose=0)\n",
    "  printMetrics(model, x_train, y_train, \"TREINO\")"
   ]
  }
 ],
 "metadata": {
  "kernelspec": {
   "display_name": "venv",
   "language": "python",
   "name": "python3"
  },
  "language_info": {
   "codemirror_mode": {
    "name": "ipython",
    "version": 3
   },
   "file_extension": ".py",
   "mimetype": "text/x-python",
   "name": "python",
   "nbconvert_exporter": "python",
   "pygments_lexer": "ipython3",
   "version": "3.10.0"
  }
 },
 "nbformat": 4,
 "nbformat_minor": 2
}
