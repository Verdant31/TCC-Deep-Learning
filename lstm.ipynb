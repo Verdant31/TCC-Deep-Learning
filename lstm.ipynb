{
 "cells": [
  {
   "cell_type": "code",
   "execution_count": 11,
   "metadata": {},
   "outputs": [],
   "source": [
    "import matplotlib.pyplot as plt\n",
    "import numpy as np\n",
    "import warnings\n",
    "from sklearn.metrics import confusion_matrix\n",
    "import seaborn as sns\n",
    "import tensorflow as tf\n",
    "import pandas as pd\n",
    "from sklearn.preprocessing import MinMaxScaler\n",
    "from keras.models import Sequential\n",
    "from keras.layers import Dense\n",
    "from keras.layers import LSTM\n",
    "from sklearn.metrics import classification_report, ConfusionMatrixDisplay\n",
    "\n",
    "warnings.filterwarnings(\"ignore\", category=DeprecationWarning) \n",
    "tf.random.set_seed(221)\n",
    "np.random.seed(221)"
   ]
  },
  {
   "cell_type": "code",
   "execution_count": 12,
   "metadata": {},
   "outputs": [],
   "source": [
    "val_accuracies = []\n",
    "train_accuracies = []"
   ]
  },
  {
   "cell_type": "code",
   "execution_count": 13,
   "metadata": {},
   "outputs": [],
   "source": [
    "def buildModel(neurons = 32, input_shape = (15,1)):\n",
    "  model = Sequential()\n",
    "  model.add(LSTM(neurons, input_shape=input_shape))\n",
    "  model.add(Dense(1, activation='sigmoid'))\n",
    "  model.compile(loss='binary_crossentropy', optimizer='adam', metrics=['accuracy'])\n",
    "  return model\n",
    "\n",
    "def printMetrics(model, x, y, stage):\n",
    "  scores = model.evaluate(x, y, verbose=0)\n",
    "  print(\"(\" + stage + \")\" + \"Erro da LSTM : %.2f%%\" % (100-scores[1]*100))\n",
    "  print(\"(\" + stage + \")\" + \"Acurária da LSTM  %.2f%%\" % (scores[1]*100))\n",
    "  print(\"\\n\")\n",
    "\n",
    "  if(stage == \"TESTE\"):\n",
    "    val_accuracies.append(scores[1])\n",
    "  else:\n",
    "    train_accuracies.append(scores[1])\n",
    "\n",
    "  if(stage == \"TESTE\"):\n",
    "    print(\"Matriz de confusão (\" + stage + \")\")\n",
    "    y_pred = model.predict(x, verbose = 0)\n",
    "    y_pred = np.array(np.round(y_pred))\n",
    "    y = np.array(y)\n",
    "    cf_matrix = confusion_matrix(y, y_pred, normalize='true')\n",
    "\n",
    "    print(\"Precision, recall e f1-score\")\n",
    "    print(classification_report(y, y_pred)) \n",
    "    print(cf_matrix[0][0], \"Previu COMPRA e era COMPRA\")\n",
    "    print(cf_matrix[0][1], \"Previu COMPRA e era VENDA\")  \n",
    "    print(cf_matrix[1][0], \"Previu VENDA e era COMPRA\")\n",
    "    print(cf_matrix[1][1], \"Previu VENDA e era VENDA\")\n",
    "  \n",
    "    fig, ax = plt.subplots(figsize=(4, 4))\n",
    "\n",
    "    cf_matrix = confusion_matrix(y, y_pred, normalize='true')\n",
    "    disp = ConfusionMatrixDisplay(confusion_matrix=cf_matrix)\n",
    "\n",
    "    disp.plot(ax = ax)\n",
    "    plt.show()\n",
    "\n",
    "def getData(action, training = False, dropDays=0):\n",
    "  step = \"treino\" if training else \"teste\"\n",
    "  df = pd.read_csv(\"./\" + action + \"./\" + step + \".csv\")\n",
    "  df.drop(columns=[\"Unnamed: 0\", \"Smoothed_Close\", \"Close\", \"Date\"], inplace=True)\n",
    "\n",
    "  if(dropDays > 0):\n",
    "    columns_to_drop = []\n",
    "    for day in reversed(range(dropDays)):\n",
    "      columns_to_drop.append(\"Past_\" + str(15-day)+ \"_Days_Close\")\n",
    "    df.drop(columns=columns_to_drop, inplace=True)\n",
    "\n",
    "  x = df.drop(columns=[\"Label\"])\n",
    "  y = df[\"Label\"]\n",
    "\n",
    "  scaler = MinMaxScaler(feature_range=(0, 1))\n",
    "  x = scaler.fit_transform(x)\n",
    "  y = y.replace(-1, 0)\n",
    "  \n",
    "  x = np.reshape(x, (x.shape[0], x.shape[1], 1))\n",
    "  return x, y"
   ]
  },
  {
   "cell_type": "code",
   "execution_count": 14,
   "metadata": {},
   "outputs": [
    {
     "name": "stdout",
     "output_type": "stream",
     "text": [
      "(4735, 15, 1)\n",
      "(4735,)\n",
      "(1185, 15, 1)\n",
      "(1185,)\n"
     ]
    }
   ],
   "source": [
    "action = \"BBAS3.SA\"\n",
    "x_train, y_train = getData(action=action, training=True)\n",
    "x_test, y_test = getData(action=action, training=False)\n",
    "print(x_train.shape)\n",
    "print(y_train.shape)\n",
    "\n",
    "print(x_test.shape)\n",
    "print(y_test.shape)"
   ]
  },
  {
   "cell_type": "code",
   "execution_count": 15,
   "metadata": {},
   "outputs": [
    {
     "name": "stdout",
     "output_type": "stream",
     "text": [
      "Treinando modelo para a ação: BBAS3.SA\n"
     ]
    },
    {
     "name": "stderr",
     "output_type": "stream",
     "text": [
      "c:\\Users\\verdant\\Desktop\\TCC-Deep-Learning\\venv\\Lib\\site-packages\\keras\\src\\layers\\rnn\\rnn.py:204: UserWarning: Do not pass an `input_shape`/`input_dim` argument to a layer. When using Sequential models, prefer using an `Input(shape)` object as the first layer in the model instead.\n",
      "  super().__init__(**kwargs)\n"
     ]
    },
    {
     "name": "stdout",
     "output_type": "stream",
     "text": [
      "(TREINO)Erro da LSTM : 21.14%\n",
      "(TREINO)Acurária da LSTM  78.86%\n",
      "\n",
      "\n",
      "(TESTE)Erro da LSTM : 28.35%\n",
      "(TESTE)Acurária da LSTM  71.65%\n",
      "\n",
      "\n",
      "Matriz de confusão (TESTE)\n",
      "Precision, recall e f1-score\n",
      "              precision    recall  f1-score   support\n",
      "\n",
      "           0       0.70      0.89      0.78       689\n",
      "           1       0.76      0.48      0.58       496\n",
      "\n",
      "    accuracy                           0.72      1185\n",
      "   macro avg       0.73      0.68      0.68      1185\n",
      "weighted avg       0.72      0.72      0.70      1185\n",
      "\n",
      "0.8896952104499274 Previu COMPRA e era COMPRA\n",
      "0.11030478955007257 Previu COMPRA e era VENDA\n",
      "0.5241935483870968 Previu VENDA e era COMPRA\n",
      "0.47580645161290325 Previu VENDA e era VENDA\n"
     ]
    },
    {
     "data": {
      "image/png": "[encoded data removed]",
      "text/plain": [
       "<Figure size 400x400 with 2 Axes>"
      ]
     },
     "metadata": {},
     "output_type": "display_data"
    },
    {
     "name": "stderr",
     "output_type": "stream",
     "text": [
      "WARNING:absl:You are saving your model as an HDF5 file via `model.save()` or `keras.saving.save_model(model)`. This file format is considered legacy. We recommend using instead the native Keras format, e.g. `model.save('my_model.keras')` or `keras.saving.save_model(model, 'my_model.keras')`. \n"
     ]
    },
    {
     "name": "stdout",
     "output_type": "stream",
     "text": [
      "\n",
      "\n",
      "--------------------------------------------#################------------------------------------------------------\n",
      "\n",
      "\n",
      "Treinando modelo para a ação: CSNA3.SA\n"
     ]
    },
    {
     "name": "stderr",
     "output_type": "stream",
     "text": [
      "c:\\Users\\verdant\\Desktop\\TCC-Deep-Learning\\venv\\Lib\\site-packages\\keras\\src\\layers\\rnn\\rnn.py:204: UserWarning: Do not pass an `input_shape`/`input_dim` argument to a layer. When using Sequential models, prefer using an `Input(shape)` object as the first layer in the model instead.\n",
      "  super().__init__(**kwargs)\n"
     ]
    },
    {
     "name": "stdout",
     "output_type": "stream",
     "text": [
      "(TREINO)Erro da LSTM : 12.90%\n",
      "(TREINO)Acurária da LSTM  87.10%\n",
      "\n",
      "\n",
      "(TESTE)Erro da LSTM : 14.08%\n",
      "(TESTE)Acurária da LSTM  85.92%\n",
      "\n",
      "\n",
      "Matriz de confusão (TESTE)\n",
      "Precision, recall e f1-score\n",
      "              precision    recall  f1-score   support\n",
      "\n",
      "           0       0.96      0.79      0.87       688\n",
      "           1       0.77      0.96      0.85       498\n",
      "\n",
      "    accuracy                           0.86      1186\n",
      "   macro avg       0.86      0.87      0.86      1186\n",
      "weighted avg       0.88      0.86      0.86      1186\n",
      "\n",
      "0.7892441860465116 Previu COMPRA e era COMPRA\n",
      "0.21075581395348839 Previu COMPRA e era VENDA\n",
      "0.04417670682730924 Previu VENDA e era COMPRA\n",
      "0.9558232931726908 Previu VENDA e era VENDA\n"
     ]
    },
    {
     "data": {
      "image/png": "[encoded data removed]",
      "text/plain": [
       "<Figure size 400x400 with 2 Axes>"
      ]
     },
     "metadata": {},
     "output_type": "display_data"
    },
    {
     "name": "stderr",
     "output_type": "stream",
     "text": [
      "WARNING:absl:You are saving your model as an HDF5 file via `model.save()` or `keras.saving.save_model(model)`. This file format is considered legacy. We recommend using instead the native Keras format, e.g. `model.save('my_model.keras')` or `keras.saving.save_model(model, 'my_model.keras')`. \n"
     ]
    },
    {
     "name": "stdout",
     "output_type": "stream",
     "text": [
      "\n",
      "\n",
      "--------------------------------------------#################------------------------------------------------------\n",
      "\n",
      "\n",
      "Treinando modelo para a ação: PETR4.SA\n"
     ]
    },
    {
     "name": "stderr",
     "output_type": "stream",
     "text": [
      "c:\\Users\\verdant\\Desktop\\TCC-Deep-Learning\\venv\\Lib\\site-packages\\keras\\src\\layers\\rnn\\rnn.py:204: UserWarning: Do not pass an `input_shape`/`input_dim` argument to a layer. When using Sequential models, prefer using an `Input(shape)` object as the first layer in the model instead.\n",
      "  super().__init__(**kwargs)\n"
     ]
    },
    {
     "name": "stdout",
     "output_type": "stream",
     "text": [
      "(TREINO)Erro da LSTM : 18.12%\n",
      "(TREINO)Acurária da LSTM  81.88%\n",
      "\n",
      "\n",
      "(TESTE)Erro da LSTM : 20.28%\n",
      "(TESTE)Acurária da LSTM  79.72%\n",
      "\n",
      "\n",
      "Matriz de confusão (TESTE)\n",
      "Precision, recall e f1-score\n",
      "              precision    recall  f1-score   support\n",
      "\n",
      "           0       0.77      0.84      0.80       581\n",
      "           1       0.83      0.76      0.79       622\n",
      "\n",
      "    accuracy                           0.80      1203\n",
      "   macro avg       0.80      0.80      0.80      1203\n",
      "weighted avg       0.80      0.80      0.80      1203\n",
      "\n",
      "0.8364888123924269 Previu COMPRA e era COMPRA\n",
      "0.16351118760757316 Previu COMPRA e era VENDA\n",
      "0.2395498392282958 Previu VENDA e era COMPRA\n",
      "0.7604501607717041 Previu VENDA e era VENDA\n"
     ]
    },
    {
     "data": {
      "image/png": "[encoded data removed]",
      "text/plain": [
       "<Figure size 400x400 with 2 Axes>"
      ]
     },
     "metadata": {},
     "output_type": "display_data"
    },
    {
     "name": "stderr",
     "output_type": "stream",
     "text": [
      "WARNING:absl:You are saving your model as an HDF5 file via `model.save()` or `keras.saving.save_model(model)`. This file format is considered legacy. We recommend using instead the native Keras format, e.g. `model.save('my_model.keras')` or `keras.saving.save_model(model, 'my_model.keras')`. \n"
     ]
    },
    {
     "name": "stdout",
     "output_type": "stream",
     "text": [
      "\n",
      "\n",
      "--------------------------------------------#################------------------------------------------------------\n",
      "\n",
      "\n",
      "Treinando modelo para a ação: VALE3.SA\n"
     ]
    },
    {
     "name": "stderr",
     "output_type": "stream",
     "text": [
      "c:\\Users\\verdant\\Desktop\\TCC-Deep-Learning\\venv\\Lib\\site-packages\\keras\\src\\layers\\rnn\\rnn.py:204: UserWarning: Do not pass an `input_shape`/`input_dim` argument to a layer. When using Sequential models, prefer using an `Input(shape)` object as the first layer in the model instead.\n",
      "  super().__init__(**kwargs)\n"
     ]
    },
    {
     "name": "stdout",
     "output_type": "stream",
     "text": [
      "(TREINO)Erro da LSTM : 20.74%\n",
      "(TREINO)Acurária da LSTM  79.26%\n",
      "\n",
      "\n",
      "(TESTE)Erro da LSTM : 20.78%\n",
      "(TESTE)Acurária da LSTM  79.22%\n",
      "\n",
      "\n",
      "Matriz de confusão (TESTE)\n",
      "Precision, recall e f1-score\n",
      "              precision    recall  f1-score   support\n",
      "\n",
      "           0       0.76      0.86      0.80       601\n",
      "           1       0.83      0.73      0.78       602\n",
      "\n",
      "    accuracy                           0.79      1203\n",
      "   macro avg       0.80      0.79      0.79      1203\n",
      "weighted avg       0.80      0.79      0.79      1203\n",
      "\n",
      "0.8552412645590682 Previu COMPRA e era COMPRA\n",
      "0.1447587354409318 Previu COMPRA e era VENDA\n",
      "0.2707641196013289 Previu VENDA e era COMPRA\n",
      "0.729235880398671 Previu VENDA e era VENDA\n"
     ]
    },
    {
     "data": {
      "image/png": "[encoded data removed]",
      "text/plain": [
       "<Figure size 400x400 with 2 Axes>"
      ]
     },
     "metadata": {},
     "output_type": "display_data"
    },
    {
     "name": "stderr",
     "output_type": "stream",
     "text": [
      "WARNING:absl:You are saving your model as an HDF5 file via `model.save()` or `keras.saving.save_model(model)`. This file format is considered legacy. We recommend using instead the native Keras format, e.g. `model.save('my_model.keras')` or `keras.saving.save_model(model, 'my_model.keras')`. \n"
     ]
    },
    {
     "name": "stdout",
     "output_type": "stream",
     "text": [
      "\n",
      "\n",
      "--------------------------------------------#################------------------------------------------------------\n",
      "\n",
      "\n"
     ]
    }
   ],
   "source": [
    "actions = [\"BBAS3.SA\", \"CSNA3.SA\", \"PETR4.SA\", \"VALE3.SA\"]\n",
    "\n",
    "\n",
    "for action in actions:\n",
    "  x_train, y_train = getData(action=action, training=True)\n",
    "  x_test, y_test = getData(action=action, training=False)\n",
    "\n",
    "  model = buildModel()\n",
    "  print(\"Treinando modelo para a ação:\", action)\n",
    "  history = model.fit(x_train, y_train, validation_split = 0.2, epochs=100, batch_size=10, verbose=0)\n",
    "  printMetrics(model, x_train, y_train, \"TREINO\")\n",
    "  printMetrics(model, x_test, y_test, \"TESTE\")\n",
    "\n",
    "  model.save(f\"./models/lstm/{action}_model.h5\")\n",
    "\n",
    "  print(\"\\n\")\n",
    "  print(\"--------------------------------------------#################------------------------------------------------------\")\n",
    "  print(\"\\n\")\n",
    "  "
   ]
  },
  {
   "cell_type": "code",
   "execution_count": 16,
   "metadata": {},
   "outputs": [
    {
     "data": {
      "image/png": "[encoded data removed]",
      "text/plain": [
       "<Figure size 600x600 with 1 Axes>"
      ]
     },
     "metadata": {},
     "output_type": "display_data"
    }
   ],
   "source": [
    "barWidth = 0.30\n",
    "fig, ax= plt.subplots(figsize =(6, 6)) \n",
    "\n",
    "br1 = np.arange(4) \n",
    "br2 = [x + barWidth for x in br1] \n",
    " \n",
    "ax.spines['top'].set_visible(False)\n",
    "\n",
    "plt.bar(br1, train_accuracies, color ='#5271FF', width = barWidth, \n",
    "        edgecolor ='grey', label ='Treino') \n",
    "plt.bar(br2, val_accuracies, color ='#FF914D', width = barWidth, \n",
    "        edgecolor ='grey', label ='Teste') \n",
    "\n",
    "plt.xticks([r + barWidth for r in range(4)], [\"BBAS3.SA\",\"CSNA3.SA\",\"PETR4.SA\",\"VALE3.SA\"])\n",
    " \n",
    "plt.legend()\n",
    "plt.show() "
   ]
  },
  {
   "cell_type": "code",
   "execution_count": null,
   "metadata": {},
   "outputs": [],
   "source": [
    "import pandas as pd\n",
    "import numpy as np\n",
    "\n",
    "df = pd.read_csv(\"./backtest/BBAS3.SA.csv\")\n",
    "df.drop(columns=[\"Date\", \"Open\"], inplace=True)\n",
    "\n",
    "df.head(5)"
   ]
  },
  {
   "cell_type": "code",
   "execution_count": null,
   "metadata": {},
   "outputs": [],
   "source": [
    "from sklearn.preprocessing import MinMaxScaler\n",
    "x = df.drop(columns=[\"Close\"])\n",
    "y = df[\"Close\"]\n",
    "\n",
    "scaler = MinMaxScaler(feature_range=(0, 1))\n",
    "x = scaler.fit_transform(x)\n",
    "y = y.replace(-1, 0)\n",
    "\n",
    "x = np.reshape(x, (x.shape[0], x.shape[1], 1))"
   ]
  },
  {
   "cell_type": "code",
   "execution_count": null,
   "metadata": {},
   "outputs": [],
   "source": [
    "from keras.saving import load_model\n",
    "loaded_model = load_model(\"./models/lstm/BBAS3.SA_model.h5\")\n",
    "y_pred = loaded_model.predict(x, verbose = 0)\n",
    "y_pred = np.array(np.round(y_pred))"
   ]
  },
  {
   "cell_type": "code",
   "execution_count": null,
   "metadata": {},
   "outputs": [],
   "source": [
    "df = pd.read_csv(\"./backtest/BBAS3.SA.csv\")"
   ]
  },
  {
   "cell_type": "code",
   "execution_count": null,
   "metadata": {},
   "outputs": [],
   "source": [
    "# Backtest usando os dados do ano de 2024 (o modelo é treinado com dados de até 2023)\n",
    "quotes = 20\n",
    "balance = 0\n",
    "lucros = 0\n",
    "\n",
    "for index, row in df.iterrows():\n",
    "  date = row.values[0] \n",
    "  day_open = float(row.values[1])\n",
    "  close = float(row.values[2])\n",
    "  \n",
    "  print(f\"Saldo atual ({date}) : {round(balance, 2)}, ação abriu em {day_open}\")\n",
    "  \n",
    "  order_text = \"Compra\" if y_pred[index] == 1 else \"Venda\"\n",
    "\n",
    "  print(f\"Saldo da ação: {round(close-day_open, 2)}\")\n",
    "  \n",
    "  if(order_text == \"Compra\" and close > day_open):\n",
    "    balance+=  abs(close - day_open) * quotes\n",
    "  if(order_text == \"Compra\" and close < day_open):\n",
    "    balance+=  -(day_open - close) * quotes\n",
    "  if(order_text == \"Venda\" and close > day_open):\n",
    "    balance+=  -(day_open - close) * quotes\n",
    "  if(order_text == \"Venda\" and close < day_open):\n",
    "    balance+=  abs(close - day_open) * quotes\n",
    "    \n",
    "  print(f\"{order_text} efetuada, dia finalizado com lucro de {round(balance,2)}, ação fechou em {close}\")\n",
    "\n",
    "  print(\"\\n\")\n",
    "\n",
    "print(f\"Saldo final: {balance}\")"
   ]
  },
  {
   "cell_type": "code",
   "execution_count": null,
   "metadata": {},
   "outputs": [],
   "source": [
    "actions = [\"BBAS3.SA\", \"CSNA3.SA\", \"PETR4.SA\", \"VALE3.SA\"]\n",
    "\n",
    "for action in actions:\n",
    "  df = pd.read_csv(f\"./backtest/{action}.csv\")\n",
    "  df.drop(columns=[\"Date\", \"Open\"], inplace=True)\n",
    "\n",
    "  x = df.drop(columns=[\"Close\"])\n",
    "  y = df[\"Close\"]\n",
    "\n",
    "  scaler = MinMaxScaler(feature_range=(0, 1))\n",
    "  x = scaler.fit_transform(x)\n",
    "  y = y.replace(-1, 0)\n",
    "  x = np.reshape(x, (x.shape[0], x.shape[1], 1))\n",
    "\n",
    "  loaded_model = load_model(f\"./models/lstm/{action}_model.h5\")\n",
    "  y_pred = loaded_model.predict(x, verbose = 0)\n",
    "  y_pred = np.array(np.round(y_pred))\n",
    "\n",
    "  df = pd.read_csv(f\"./backtest/{action}.csv\")\n",
    "\n",
    "  quotes = 20\n",
    "  balance = 0\n",
    "\n",
    "  for index, row in df.iterrows():\n",
    "    date = row.values[0] \n",
    "    day_open = float(row.values[1])\n",
    "    close = float(row.values[2])\n",
    "    \n",
    "    order_text = \"Compra\" if y_pred[index] == 1 else \"Venda\"\n",
    "    \n",
    "    if(order_text == \"Compra\" and close > day_open):\n",
    "      balance+=  abs(close - day_open) * quotes\n",
    "    if(order_text == \"Compra\" and close < day_open):\n",
    "      balance+=  -(day_open - close) * quotes\n",
    "    if(order_text == \"Venda\" and close > day_open):\n",
    "      balance+=  -(day_open - close) * quotes\n",
    "    if(order_text == \"Venda\" and close < day_open):\n",
    "      balance+=  abs(close - day_open) * quotes\n",
    "      \n",
    "\n",
    "  print(f\"Saldo final: {balance} para a ação {action}\")"
   ]
  }
 ],
 "metadata": {
  "kernelspec": {
   "display_name": "venv",
   "language": "python",
   "name": "python3"
  },
  "language_info": {
   "codemirror_mode": {
    "name": "ipython",
    "version": 3
   },
   "file_extension": ".py",
   "mimetype": "text/x-python",
   "name": "python",
   "nbconvert_exporter": "python",
   "pygments_lexer": "ipython3",
   "version": "3.12.4"
  }
 },
 "nbformat": 4,
 "nbformat_minor": 2
}
