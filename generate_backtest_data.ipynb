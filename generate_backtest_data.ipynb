{
 "cells": [
  {
   "cell_type": "code",
   "execution_count": null,
   "metadata": {},
   "outputs": [],
   "source": [
    "import yfinance as yf\n",
    "import pandas as pd\n"
   ]
  },
  {
   "cell_type": "code",
   "execution_count": 41,
   "metadata": {},
   "outputs": [],
   "source": [
    "def save_action_to_csv(action):\n",
    "  ticker = yf.Ticker(action)\n",
    "  data = ticker.history(period=\"max\")\n",
    "  if(action == \"BBAS3.SA\"):\n",
    "    data.to_csv('HAHAH.csv')\n",
    "  data = data.reset_index()[['Close', 'Date', 'Open']]\n",
    "  data[\"Year\"] = data[\"Date\"].apply(lambda x: int(str(x).split(\"-\")[0]))\n",
    "  data = data[data[\"Year\"] > 2023].reset_index()\n",
    "  data.drop(columns=[\"Year\", \"index\"], inplace=True)\n",
    "\n",
    "  columns=[\n",
    "    \"Date\",\"Open\",\"Close\",\n",
    "    \"Past_1_Days_Close\", \"Past_2_Days_Close\", \"Past_3_Days_Close\", \"Past_4_Days_Close\", \n",
    "    \"Past_5_Days_Close\", \"Past_6_Days_Close\", \"Past_7_Days_Close\", \"Past_8_Days_Close\", \n",
    "    \"Past_9_Days_Close\",\"Past_10_Days_Close\",\"Past_11_Days_Close\",\"Past_12_Days_Close\",\n",
    "    \"Past_13_Days_Close\",\"Past_14_Days_Close\",\"Past_15_Days_Close\",\n",
    "  ]\n",
    "\n",
    "  new_rows = []\n",
    "\n",
    "  for index, row in data[14:].iterrows():\n",
    "    past_15_values = []\n",
    "    date = str(row['Date']).split(\" \")[0]\n",
    "    past_15_values.append(date)\n",
    "    past_15_values.append(f\"{row['Open']:.2f}\")\n",
    "    past_15_values.append(f\"{row['Close']:.2f}\")\n",
    "    for past_day in range(15):\n",
    "      close = data.iloc[abs(past_day-index)]['Close']\n",
    "      past_15_values.append(f\"{close:.2f}\")\n",
    "    new_rows.append(past_15_values)\n",
    "\n",
    "  df = pd.DataFrame(new_rows, columns=columns)\n",
    "  df.to_csv(\"./backtest/\" + action + \".csv\", index=False)"
   ]
  },
  {
   "cell_type": "code",
   "execution_count": 42,
   "metadata": {},
   "outputs": [],
   "source": [
    "actions = [\"BBAS3.SA\", \"CSNA3.SA\", \"PETR4.SA\", \"VALE3.SA\"]\n",
    "\n",
    "for action in actions:\n",
    "  save_action_to_csv(action)"
   ]
  }
 ],
 "metadata": {
  "kernelspec": {
   "display_name": "venv",
   "language": "python",
   "name": "python3"
  },
  "language_info": {
   "codemirror_mode": {
    "name": "ipython",
    "version": 3
   },
   "file_extension": ".py",
   "mimetype": "text/x-python",
   "name": "python",
   "nbconvert_exporter": "python",
   "pygments_lexer": "ipython3",
   "version": "3.10.0"
  }
 },
 "nbformat": 4,
 "nbformat_minor": 2
}
